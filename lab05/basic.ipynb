{
 "cells": [
  {
   "cell_type": "code",
   "execution_count": null,
   "metadata": {
    "collapsed": true,
    "deletable": true,
    "editable": true
   },
   "outputs": [],
   "source": [
    "# coding=utf-8\n",
    "import tensorflow as tf\n",
    "import sys\n",
    "import numpy as np"
   ]
  },
  {
   "cell_type": "code",
   "execution_count": null,
   "metadata": {
    "collapsed": true,
    "deletable": true,
    "editable": true
   },
   "outputs": [],
   "source": [
    "worker_hosts = [\n",
    "    \"worker0.default.svc.cluster.local:2222\",\n",
    "    \"worker1.default.svc.cluster.local:2222\",\n",
    "    \"localhost:2222\",\n",
    "]"
   ]
  },
  {
   "cell_type": "code",
   "execution_count": null,
   "metadata": {
    "collapsed": false,
    "deletable": true,
    "editable": true
   },
   "outputs": [],
   "source": [
    "with tf.device(\"/job:worker/task:0\"):\n",
    "    with tf.device(\"/cpu:0\"):\n",
    "        a = tf.constant([1.5, 6.0], name='a')\n",
    "        b = tf.Variable([1.5, 3.2], name='b')\n",
    "        c = (a * b) + (a / b)\n",
    "        d = c * a\n",
    "        y = tf.assign(b, d)"
   ]
  },
  {
   "cell_type": "code",
   "execution_count": null,
   "metadata": {
    "collapsed": false,
    "deletable": true,
    "editable": true
   },
   "outputs": [],
   "source": [
    "with tf.device(\"/job:worker/task:1\"):\n",
    "    with tf.device(\"/cpu:0\"):\n",
    "        aa = tf.constant([1.5, 6.0], name='aa')\n",
    "        bb = tf.Variable([1.5, 3.2], name='bb')\n",
    "        cc = (aa * bb) + (aa / bb)\n",
    "        dd = cc + aa\n",
    "        yy = tf.assign(bb, dd)"
   ]
  },
  {
   "cell_type": "code",
   "execution_count": null,
   "metadata": {
    "collapsed": true,
    "deletable": true,
    "editable": true
   },
   "outputs": [],
   "source": [
    "cluster = tf.train.ClusterSpec({\"worker\": worker_hosts})\n",
    "server = tf.train.Server(cluster, job_name=\"worker\", task_index=2)"
   ]
  },
  {
   "cell_type": "code",
   "execution_count": null,
   "metadata": {
    "collapsed": false,
    "deletable": true,
    "editable": true
   },
   "outputs": [],
   "source": [
    "with tf.Session(\"grpc://localhost:2222\") as sess:\n",
    "    sess.run(tf.global_variables_initializer())\n",
    "    print(sess.run(y))\n",
    "    print(sess.run(yy))"
   ]
  },
  {
   "cell_type": "code",
   "execution_count": null,
   "metadata": {
    "collapsed": true,
    "deletable": true,
    "editable": true
   },
   "outputs": [],
   "source": []
  }
 ],
 "metadata": {
  "kernelspec": {
   "display_name": "Python 2",
   "language": "python",
   "name": "python2"
  },
  "language_info": {
   "codemirror_mode": {
    "name": "ipython",
    "version": 2
   },
   "file_extension": ".py",
   "mimetype": "text/x-python",
   "name": "python",
   "nbconvert_exporter": "python",
   "pygments_lexer": "ipython2",
   "version": "2.7.6"
  }
 },
 "nbformat": 4,
 "nbformat_minor": 2
}
